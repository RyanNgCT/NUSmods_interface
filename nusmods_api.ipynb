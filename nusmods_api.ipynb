{
 "cells": [
  {
   "cell_type": "markdown",
   "metadata": {},
   "source": [
    "## Testing out the API connections"
   ]
  },
  {
   "cell_type": "code",
   "execution_count": 24,
   "metadata": {},
   "outputs": [
    {
     "name": "stdout",
     "output_type": "stream",
     "text": [
      "{'or': ['CS2020:D', 'CS1020:D', 'CS1020E:D', {'and': [{'or': ['CS2030:D', 'CS2030S:D']}, {'or': ['CS2040:D', 'CS2040S:D', 'CS2040C:D']}]}]}\n"
     ]
    }
   ],
   "source": [
    "import requests\n",
    "import json\n",
    "\n",
    "base_uri = f\"https://api.nusmods.com/v2/\"\n",
    "acad_year = f\"2024-2025\"\n",
    "endpoint = f\"/modules/\"\n",
    "\n",
    "module_code = f\"CS2103T\"\n",
    "query = f\"{module_code}.json\" \n",
    "\n",
    "headers = {\"Content-Type\": \"application/json\"}\n",
    "\n",
    "full_uri = str(base_uri + acad_year + endpoint + query)\n",
    "\n",
    "resp = requests.get(url=full_uri, headers=headers)\n",
    "if resp.status_code == 200:\n",
    "    resp = json.loads(resp.text)\n",
    "    title = resp[\"title\"]\n",
    "\n",
    "    # Edge case -> catch modules with no prerequisites\n",
    "    if \"prereqTree\" not in resp:\n",
    "        preReqTree = None\n",
    "    else:\n",
    "        preReqTree = resp[\"prereqTree\"]\n",
    "\n",
    "    # print(\"Preclusions:\", preclusions, \"\\nPrerequisites:\", preReqTree)\n",
    "elif resp.status_code == 404:\n",
    "    print(\"No such module found. Please check module code!\")\n",
    "\n",
    "print(preReqTree)"
   ]
  },
  {
   "cell_type": "code",
   "execution_count": 25,
   "metadata": {},
   "outputs": [
    {
     "name": "stdout",
     "output_type": "stream",
     "text": [
      "CS2103T Software Engineering\n",
      "['CS2020', 'CS1020', 'CS1020E', {1: ['CS2030', 'CS2030S'], 2: ['CS2040', 'CS2040S', 'CS2040C']}]\n"
     ]
    }
   ],
   "source": [
    "def listifyPrereqs(input : dict) -> list:\n",
    "    if \"or\" in input:\n",
    "        preReqListRaw = input[\"or\"]\n",
    "        preReqList = [str(prereq).strip(\":D\") for prereq in preReqListRaw]\n",
    "        preReqList = []\n",
    "        for prereq in preReqListRaw:\n",
    "            if type(prereq) == str:\n",
    "                preReqList.append(str(prereq).strip(\":D\"))\n",
    "            elif type(prereq) == dict: # edge case -> multiple subnodes\n",
    "                preReqList.append(prereq) \n",
    "\n",
    "        return preReqList\n",
    "\n",
    "print(module_code + \" \"+ title)\n",
    "if preReqTree:\n",
    "    collection = {} # for collecting the respective possible sub-lists\n",
    "    if \"and\" in preReqTree:\n",
    "        elements = preReqTree['and'] # get sub-branches\n",
    "        count = 1\n",
    "        for value in elements:\n",
    "            if type(value) == dict:\n",
    "                collection[count] = listifyPrereqs(value)\n",
    "            else:\n",
    "                collection[count] = str(value).strip(\":D\")\n",
    "            count += 1\n",
    "\n",
    "    result = listifyPrereqs(preReqTree)\n",
    "    if result != None:\n",
    "        finalList = []\n",
    "        try:\n",
    "            if \"and\" in str(result):\n",
    "                for ele in result:\n",
    "                    if type(ele) == dict:\n",
    "                        fragment = ele['and'] # get sub-branches\n",
    "                        collection2 = {}\n",
    "                        count = 1\n",
    "                        for value in fragment:\n",
    "                            if type(value) == dict:\n",
    "                                collection2[count] = listifyPrereqs(value)\n",
    "                            else:\n",
    "                                collection2[count] = str(value).strip(\":D\")\n",
    "                            count += 1\n",
    "                        finalList.append(collection2)\n",
    "\n",
    "                     # normal string elements (no subnodes)\n",
    "                    else:\n",
    "                        finalList.append(ele)\n",
    "\n",
    "        except:\n",
    "            pass\n",
    "        print(finalList)\n",
    "    elif collection != {}:\n",
    "        print(collection)\n",
    "    else:\n",
    "        singlePRQ = [str(preReqTree).strip(\":D\")]\n",
    "        print(singlePRQ)\n",
    "else:\n",
    "    print(\"No prerequisities!\")"
   ]
  },
  {
   "cell_type": "markdown",
   "metadata": {},
   "source": [
    "## Actually doing some stuff with the data\n"
   ]
  },
  {
   "cell_type": "code",
   "execution_count": null,
   "metadata": {},
   "outputs": [],
   "source": [
    "import pandas as pd\n",
    "import requests\n",
    "import json\n",
    "\n",
    "df = pd.read_excel(\"NUS Module Planning.xlsx\", sheet_name=\"Graduating Requirements\", skiprows=16, nrows=26 - 16)\n",
    "df = df.dropna(axis=1, how='any')\n",
    "df"
   ]
  },
  {
   "cell_type": "code",
   "execution_count": null,
   "metadata": {},
   "outputs": [],
   "source": [
    "def listifyPrereqs(input : dict) -> str:\n",
    "    if \"or\" in input:\n",
    "        preReqListRaw = input[\"or\"]\n",
    "        preReqList = [str(prereq).strip(\":D\") for prereq in preReqListRaw]\n",
    "        return str(preReqList)\n",
    "\n",
    "def get_prerequisites(module_code : str):\n",
    "    base_uri = \"https://api.nusmods.com/v2/\"\n",
    "    acad_year = \"2024-2025\"\n",
    "    endpoint = \"/modules/\"\n",
    "    query = f\"{module_code}.json\"\n",
    "    headers = {\"Content-Type\": \"application/json\"}\n",
    "    full_uri = base_uri + acad_year + endpoint + query\n",
    "\n",
    "    resp = requests.get(url=full_uri, headers=headers)\n",
    "    if resp.status_code == 200:\n",
    "        resp_json = json.loads(resp.text)\n",
    "        \n",
    "        if \"prereqTree\" not in resp_json:\n",
    "            return \"No prerequisites\"\n",
    "        \n",
    "        preReqTree = resp_json[\"prereqTree\"]\n",
    "        \n",
    "        if preReqTree:\n",
    "            collection = {} # for collecting the respective possible sub-lists\n",
    "            if \"and\" in preReqTree:\n",
    "                elements = preReqTree['and'] # get sub-branches\n",
    "                count = 1\n",
    "                for value in elements:\n",
    "                    if type(value) == dict:\n",
    "                        collection[count] = listifyPrereqs(value)\n",
    "                    else:\n",
    "                        collection[count] = str(value).strip(\":D\")\n",
    "                    count += 1\n",
    "            \n",
    "            result = listifyPrereqs(preReqTree)\n",
    "            if result is not None:\n",
    "                return str(result)\n",
    "            elif collection != {}:\n",
    "                return str(collection)\n",
    "            else:\n",
    "                singlePRQ = [str(preReqTree).strip(\":D\")]\n",
    "                return str(singlePRQ)\n",
    "        else:\n",
    "            return \"No prerequisites\"\n",
    "    elif resp.status_code == 404:\n",
    "        return \"No such module found. Please check module code!\"\n",
    "    \n",
    "df['Prereqs'] = df['ID Mod 2'].apply(get_prerequisites)\n",
    "df"
   ]
  },
  {
   "cell_type": "code",
   "execution_count": null,
   "metadata": {},
   "outputs": [],
   "source": [
    "from openpyxl import load_workbook\n",
    "\n",
    "wb = load_workbook('NUS Module Planning.xlsx')\n",
    "sheet = wb['Graduating Requirements']\n",
    "\n",
    "if 'Prereqs' not in [cell.value for cell in sheet[17]]:\n",
    "    sheet.cell(row=17, column=8, value='Prereqs')\n",
    "\n",
    "for idx, value in enumerate(df['Prereqs'], start=18):\n",
    "    sheet.cell(row=idx, column=8, value=value)\n",
    "\n",
    "wb.save('NUS Module Planning.xlsx')"
   ]
  },
  {
   "cell_type": "code",
   "execution_count": null,
   "metadata": {},
   "outputs": [],
   "source": []
  }
 ],
 "metadata": {
  "kernelspec": {
   "display_name": "venv",
   "language": "python",
   "name": "python3"
  },
  "language_info": {
   "codemirror_mode": {
    "name": "ipython",
    "version": 3
   },
   "file_extension": ".py",
   "mimetype": "text/x-python",
   "name": "python",
   "nbconvert_exporter": "python",
   "pygments_lexer": "ipython3",
   "version": "3.10.4"
  }
 },
 "nbformat": 4,
 "nbformat_minor": 2
}
